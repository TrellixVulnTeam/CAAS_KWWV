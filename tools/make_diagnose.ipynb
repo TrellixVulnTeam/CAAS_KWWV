{
 "cells": [
  {
   "cell_type": "code",
   "execution_count": 1,
   "metadata": {},
   "outputs": [
    {
     "data": {
      "application/javascript": [
       "IPython.notebook.set_autosave_interval(0)"
      ]
     },
     "metadata": {},
     "output_type": "display_data"
    },
    {
     "name": "stdout",
     "output_type": "stream",
     "text": [
      "Autosave disabled\n"
     ]
    }
   ],
   "source": [
    "%autosave 0\n",
    "%reload_ext autoreload\n",
    "%autoreload 2\n",
    "%load_ext line_profiler"
   ]
  },
  {
   "cell_type": "code",
   "execution_count": 2,
   "metadata": {},
   "outputs": [
    {
     "name": "stderr",
     "output_type": "stream",
     "text": [
      "/home/majiechao/anaconda3/lib/python3.7/site-packages/dicom/__init__.py:53: UserWarning: \n",
      "This code is using an older version of pydicom, which is no longer \n",
      "maintained as of Jan 2017.  You can access the new pydicom features and API \n",
      "by installing `pydicom` from PyPI.\n",
      "See 'Transitioning to pydicom 1.x' section at pydicom.readthedocs.org \n",
      "for more information.\n",
      "\n",
      "  warnings.warn(msg)\n"
     ]
    }
   ],
   "source": [
    "from multiprocessing import Pool\n",
    "\n",
    "import ipdb\n",
    "\n",
    "import cv2\n",
    "import nibabel as nib\n",
    "from skimage import measure\n",
    "from skimage import morphology\n",
    "\n",
    "from fastai.vision import *"
   ]
  },
  {
   "cell_type": "code",
   "execution_count": 3,
   "metadata": {},
   "outputs": [
    {
     "ename": "FileNotFoundError",
     "evalue": "[Errno 2] No such file or directory: '../shared/voc_cmap.pkl'",
     "output_type": "error",
     "traceback": [
      "\u001b[0;31m---------------------------------------------------------------------------\u001b[0m",
      "\u001b[0;31mFileNotFoundError\u001b[0m                         Traceback (most recent call last)",
      "\u001b[0;32m<ipython-input-3-0cf20acf76fe>\u001b[0m in \u001b[0;36m<module>\u001b[0;34m\u001b[0m\n\u001b[0;32m----> 1\u001b[0;31m \u001b[0;32mwith\u001b[0m \u001b[0mopen\u001b[0m\u001b[0;34m(\u001b[0m\u001b[0;34m'../shared/voc_cmap.pkl'\u001b[0m\u001b[0;34m,\u001b[0m\u001b[0;34m'rb'\u001b[0m\u001b[0;34m)\u001b[0m \u001b[0;32mas\u001b[0m \u001b[0mf\u001b[0m\u001b[0;34m:\u001b[0m\u001b[0;34m\u001b[0m\u001b[0;34m\u001b[0m\u001b[0m\n\u001b[0m\u001b[1;32m      2\u001b[0m     \u001b[0mcmap_list\u001b[0m \u001b[0;34m=\u001b[0m \u001b[0mpickle\u001b[0m\u001b[0;34m.\u001b[0m\u001b[0mload\u001b[0m\u001b[0;34m(\u001b[0m\u001b[0mf\u001b[0m\u001b[0;34m)\u001b[0m\u001b[0;34m\u001b[0m\u001b[0;34m\u001b[0m\u001b[0m\n\u001b[1;32m      3\u001b[0m     \u001b[0mcmap\u001b[0m \u001b[0;34m=\u001b[0m \u001b[0mnp\u001b[0m\u001b[0;34m.\u001b[0m\u001b[0marray\u001b[0m\u001b[0;34m(\u001b[0m\u001b[0mcmap_list\u001b[0m\u001b[0;34m)\u001b[0m\u001b[0;34m.\u001b[0m\u001b[0mreshape\u001b[0m\u001b[0;34m(\u001b[0m\u001b[0;34m-\u001b[0m\u001b[0;36m1\u001b[0m\u001b[0;34m,\u001b[0m\u001b[0;36m3\u001b[0m\u001b[0;34m)\u001b[0m\u001b[0;34m\u001b[0m\u001b[0;34m\u001b[0m\u001b[0m\n",
      "\u001b[0;31mFileNotFoundError\u001b[0m: [Errno 2] No such file or directory: '../shared/voc_cmap.pkl'"
     ]
    }
   ],
   "source": [
    "with open('../shared/voc_cmap.pkl','rb') as f:\n",
    "    cmap_list = pickle.load(f)\n",
    "    cmap = np.array(cmap_list).reshape(-1,3)"
   ]
  },
  {
   "cell_type": "markdown",
   "metadata": {},
   "source": [
    "### make/copy/link"
   ]
  },
  {
   "cell_type": "code",
   "execution_count": 3,
   "metadata": {},
   "outputs": [
    {
     "ename": "FileExistsError",
     "evalue": "[Errno 17] File exists: '../../../../pseudo/r4/xnb2' -> 'origin/xinan/xnb2/work_data/lung_det_xinan_keyan/3d_slice_origin'",
     "output_type": "error",
     "traceback": [
      "\u001b[0;31m---------------------------------------------------------------------------\u001b[0m",
      "\u001b[0;31mFileExistsError\u001b[0m                           Traceback (most recent call last)",
      "\u001b[0;32m<ipython-input-3-2e294aa3cf46>\u001b[0m in \u001b[0;36m<module>\u001b[0;34m\u001b[0m\n\u001b[1;32m     17\u001b[0m     \u001b[0mim_dir\u001b[0m \u001b[0;34m=\u001b[0m \u001b[0msub_dir1\u001b[0m\u001b[0;34m/\u001b[0m\u001b[0;34m'3d_slice_origin'\u001b[0m\u001b[0;34m\u001b[0m\u001b[0;34m\u001b[0m\u001b[0m\n\u001b[1;32m     18\u001b[0m     \u001b[0;32mif\u001b[0m \u001b[0;32mnot\u001b[0m \u001b[0mim_dir\u001b[0m\u001b[0;34m.\u001b[0m\u001b[0mexists\u001b[0m\u001b[0;34m(\u001b[0m\u001b[0;34m)\u001b[0m\u001b[0;34m:\u001b[0m\u001b[0;34m\u001b[0m\u001b[0;34m\u001b[0m\u001b[0m\n\u001b[0;32m---> 19\u001b[0;31m         \u001b[0mim_dir\u001b[0m\u001b[0;34m.\u001b[0m\u001b[0msymlink_to\u001b[0m\u001b[0;34m(\u001b[0m\u001b[0msrc_root\u001b[0m\u001b[0;34m/\u001b[0m\u001b[0mds_name\u001b[0m\u001b[0;34m)\u001b[0m\u001b[0;34m\u001b[0m\u001b[0;34m\u001b[0m\u001b[0m\n\u001b[0m\u001b[1;32m     20\u001b[0m     \u001b[0msub_dir2\u001b[0m \u001b[0;34m=\u001b[0m \u001b[0msub_dir1\u001b[0m\u001b[0;34m/\u001b[0m\u001b[0;34m'config/coco_json_origin'\u001b[0m\u001b[0;34m\u001b[0m\u001b[0;34m\u001b[0m\u001b[0m\n\u001b[1;32m     21\u001b[0m     \u001b[0msub_dir2\u001b[0m\u001b[0;34m.\u001b[0m\u001b[0mmkdir\u001b[0m\u001b[0;34m(\u001b[0m\u001b[0mparents\u001b[0m\u001b[0;34m=\u001b[0m\u001b[0;32mTrue\u001b[0m\u001b[0;34m,\u001b[0m \u001b[0mexist_ok\u001b[0m\u001b[0;34m=\u001b[0m\u001b[0;32mTrue\u001b[0m\u001b[0;34m)\u001b[0m\u001b[0;34m\u001b[0m\u001b[0;34m\u001b[0m\u001b[0m\n",
      "\u001b[0;32m~/anaconda3/lib/python3.7/pathlib.py\u001b[0m in \u001b[0;36msymlink_to\u001b[0;34m(self, target, target_is_directory)\u001b[0m\n\u001b[1;32m   1328\u001b[0m         \u001b[0;32mif\u001b[0m \u001b[0mself\u001b[0m\u001b[0;34m.\u001b[0m\u001b[0m_closed\u001b[0m\u001b[0;34m:\u001b[0m\u001b[0;34m\u001b[0m\u001b[0;34m\u001b[0m\u001b[0m\n\u001b[1;32m   1329\u001b[0m             \u001b[0mself\u001b[0m\u001b[0;34m.\u001b[0m\u001b[0m_raise_closed\u001b[0m\u001b[0;34m(\u001b[0m\u001b[0;34m)\u001b[0m\u001b[0;34m\u001b[0m\u001b[0;34m\u001b[0m\u001b[0m\n\u001b[0;32m-> 1330\u001b[0;31m         \u001b[0mself\u001b[0m\u001b[0;34m.\u001b[0m\u001b[0m_accessor\u001b[0m\u001b[0;34m.\u001b[0m\u001b[0msymlink\u001b[0m\u001b[0;34m(\u001b[0m\u001b[0mtarget\u001b[0m\u001b[0;34m,\u001b[0m \u001b[0mself\u001b[0m\u001b[0;34m,\u001b[0m \u001b[0mtarget_is_directory\u001b[0m\u001b[0;34m)\u001b[0m\u001b[0;34m\u001b[0m\u001b[0;34m\u001b[0m\u001b[0m\n\u001b[0m\u001b[1;32m   1331\u001b[0m \u001b[0;34m\u001b[0m\u001b[0m\n\u001b[1;32m   1332\u001b[0m     \u001b[0;31m# Convenience functions for querying the stat results\u001b[0m\u001b[0;34m\u001b[0m\u001b[0;34m\u001b[0m\u001b[0;34m\u001b[0m\u001b[0m\n",
      "\u001b[0;32m~/anaconda3/lib/python3.7/pathlib.py\u001b[0m in \u001b[0;36msymlink\u001b[0;34m(a, b, target_is_directory)\u001b[0m\n\u001b[1;32m    428\u001b[0m         \u001b[0;34m@\u001b[0m\u001b[0mstaticmethod\u001b[0m\u001b[0;34m\u001b[0m\u001b[0;34m\u001b[0m\u001b[0m\n\u001b[1;32m    429\u001b[0m         \u001b[0;32mdef\u001b[0m \u001b[0msymlink\u001b[0m\u001b[0;34m(\u001b[0m\u001b[0ma\u001b[0m\u001b[0;34m,\u001b[0m \u001b[0mb\u001b[0m\u001b[0;34m,\u001b[0m \u001b[0mtarget_is_directory\u001b[0m\u001b[0;34m)\u001b[0m\u001b[0;34m:\u001b[0m\u001b[0;34m\u001b[0m\u001b[0;34m\u001b[0m\u001b[0m\n\u001b[0;32m--> 430\u001b[0;31m             \u001b[0;32mreturn\u001b[0m \u001b[0mos\u001b[0m\u001b[0;34m.\u001b[0m\u001b[0msymlink\u001b[0m\u001b[0;34m(\u001b[0m\u001b[0ma\u001b[0m\u001b[0;34m,\u001b[0m \u001b[0mb\u001b[0m\u001b[0;34m)\u001b[0m\u001b[0;34m\u001b[0m\u001b[0;34m\u001b[0m\u001b[0m\n\u001b[0m\u001b[1;32m    431\u001b[0m \u001b[0;34m\u001b[0m\u001b[0m\n\u001b[1;32m    432\u001b[0m     \u001b[0mutime\u001b[0m \u001b[0;34m=\u001b[0m \u001b[0mos\u001b[0m\u001b[0;34m.\u001b[0m\u001b[0mutime\u001b[0m\u001b[0;34m\u001b[0m\u001b[0;34m\u001b[0m\u001b[0m\n",
      "\u001b[0;31mFileExistsError\u001b[0m: [Errno 17] File exists: '../../../../pseudo/r4/xnb2' -> 'origin/xinan/xnb2/work_data/lung_det_xinan_keyan/3d_slice_origin'"
     ]
    }
   ],
   "source": [
    "src_root = Path('../../../../pseudo/r4')\n",
    "ds_root = Path('origin/xinan')\n",
    "\n",
    "for ds_name,src in (\n",
    "    ('xnb2','/lung_general_data/Datasets/xinan/xnky_batch2/CT20200319003'),\n",
    "    ('xn3','/lung_general_data/Datasets/COV_DATA/xinan/CT20200217001'),\n",
    "#     ('xn4','/lung_general_data/Datasets/COV_DATA/xinan/CT20200220002'),\n",
    "#     ('hn1','/lung_general_data/Datasets/COV_DATA/hndata/CT20200225001'),\n",
    "#     ('hn2','/lung_general_data/Datasets/COV_DATA/hndata/CT20200226001'),\n",
    "#     ('hn3','/lung_general_data/Datasets/COV_DATA/hndata/CT20200226002'),\n",
    "#     ('hn4','/lung_general_data/Datasets/COV_DATA/hndata/CT20200306001'),\n",
    "#     ('hn4t','/lung_general_data/Datasets/COV_DATA/hndata/CT20200308001'),\n",
    "#     ('gz','/lung_general_data/Datasets/COV_DATA/zzdata/CT20200219001'),\n",
    "):\n",
    "    sub_dir1 = ds_root/ds_name/'work_data/lung_det_xinan_keyan'\n",
    "    sub_dir1.mkdir(parents=True, exist_ok=True)\n",
    "    im_dir = sub_dir1/'3d_slice_origin'\n",
    "    if not im_dir.exists():\n",
    "        im_dir.symlink_to(src_root/ds_name)\n",
    "    sub_dir2 = sub_dir1/'config/coco_json_origin'\n",
    "    sub_dir2.mkdir(parents=True, exist_ok=True)\n",
    "    src_fp = Path(src)/'work_data/lung_det_xinan_keyan/config/coco_json_origin/image_list_1221.txt'\n",
    "    cmd = f'rsync -au i13:{src_fp} {sub_dir2}'\n",
    "    print(cmd)\n",
    "    os.system(cmd)"
   ]
  },
  {
   "cell_type": "code",
   "execution_count": 5,
   "metadata": {},
   "outputs": [
    {
     "data": {
      "text/plain": [
       "'/home/majiechao/fai_classification/diag/data/lung_inflammation'"
      ]
     },
     "execution_count": 5,
     "metadata": {},
     "output_type": "execute_result"
    }
   ],
   "source": [
    "pwd"
   ]
  },
  {
   "cell_type": "markdown",
   "metadata": {},
   "source": [
    "#### negative slices"
   ]
  },
  {
   "cell_type": "code",
   "execution_count": null,
   "metadata": {},
   "outputs": [],
   "source": [
    "ds_root = Path('origin/xinan')\n",
    "im_dir = ds_root/'neg/work_data/lung_det_xinan_keyan/3d_slice_origin'\n",
    "im_dir.mkdir(parents=True, exist_ok=True)\n",
    "list_dir = ds_root/'neg/work_data/lung_det_xinan_keyan/config/coco_json_origin'\n",
    "list_dir.mkdir(parents=True, exist_ok=True)"
   ]
  },
  {
   "cell_type": "code",
   "execution_count": 190,
   "metadata": {},
   "outputs": [],
   "source": [
    "with open(list_dir/'nodule_lesion_random_0611_train_image_list.txt','r') as f:\n",
    "    fp_list = [l.strip() for l in f.readlines()]"
   ]
  },
  {
   "cell_type": "code",
   "execution_count": null,
   "metadata": {},
   "outputs": [],
   "source": [
    "fp_list[:2]"
   ]
  },
  {
   "cell_type": "code",
   "execution_count": 206,
   "metadata": {},
   "outputs": [],
   "source": [
    "src_dir = Path('/lung_general_data/lung_det/lung_nodule_data/lung_nodule_0213/3d_slice_origin')\n",
    "dst_dir = im_dir\n",
    "\n",
    "for fp in fp_list:\n",
    "    fp = Path(fp)\n",
    "    i = int(fp.stem)\n",
    "    for j in (i-1,i,i+1):\n",
    "        if i<0:\n",
    "            continue\n",
    "        im_fp = fp.parent/f'{j:03}.png'\n",
    "        dst_fp = dst_dir/im_fp\n",
    "        dst_fp.parent.mkdir(parents=True, exist_ok=True)\n",
    "        cmd = f'rsync -au i13:{src_dir/im_fp} {dst_fp}'\n",
    "        #print(cmd)\n",
    "        os.system(cmd)"
   ]
  },
  {
   "cell_type": "markdown",
   "metadata": {},
   "source": [
    "### prepare images"
   ]
  },
  {
   "cell_type": "code",
   "execution_count": 106,
   "metadata": {},
   "outputs": [],
   "source": [
    "cache_root = Path('a1')/'diag'\n",
    "(cache_root/'image').mkdir(parents=True)\n",
    "\n",
    "ct_list = sorted(Path('origin/xinan').glob('*/work_data/lung_det_xinan_keyan/3d_slice_origin/*/*/*/'))\n",
    "\n",
    "for ctid,ct_fp in enumerate(ct_list):\n",
    "    png_list = [t for t in sorted(list(ct_fp.glob('*.png'))) if '-' not in str(t.stem)]\n",
    "    for k,png_fp in enumerate(png_list):\n",
    "        # link image\n",
    "        from_fp =cache_root/f'image/{ctid:06}_{k:04}.png'\n",
    "        if not from_fp.exists():\n",
    "            from_fp.symlink_to(f'../../../{png_fp}')"
   ]
  },
  {
   "cell_type": "markdown",
   "metadata": {},
   "source": [
    "### make list day1"
   ]
  },
  {
   "cell_type": "code",
   "execution_count": 44,
   "metadata": {},
   "outputs": [],
   "source": [
    "# find pids\n",
    "all_pos_fps = {}\n",
    "all_pos_pids = {}\n",
    "all_fps = {}\n",
    "all_pids = {}\n",
    "for subset in ['cov','xnky_batch0','xnky_batch1']:\n",
    "    with open(f'origin/xinan/{subset}/work_data/lung_det_xinan_keyan/config/coco_json_origin/image_list_1221.txt','r') as f:\n",
    "        all_pos_fps[subset] = sorted([l.strip() for l in f.readlines()])\n",
    "        all_pos_pids[subset] = set([fp.split('/')[0] for fp in all_pos_fps[subset]])\n",
    "    all_fps[subset] = sorted(Path(f'origin/xinan/{subset}/work_data/lung_det_xinan_keyan/3d_slice_origin').glob('*/*/*/*.png'))\n",
    "    all_pids[subset] = set([fp.parts[-4] for fp in all_fps[subset]])\n",
    "\n",
    "vl_pids = {k:np.random.choice(list(v), 10, replace=False).tolist() for k,v in all_pos_pids.items()}"
   ]
  },
  {
   "cell_type": "code",
   "execution_count": 62,
   "metadata": {},
   "outputs": [],
   "source": [
    "# bacterial:2; fungal:3;\n",
    "cls_map = {'0':'2','1':'3'}\n",
    "pid2cls = {}\n",
    "for subset in ['xnky_batch0','xnky_batch1']:\n",
    "    with open(f'origin/xinan/{subset}/auto_rebuild/pid_list.txt','r') as f:\n",
    "        for l in f.readlines():\n",
    "            fp,cls = l.strip().split()\n",
    "            pid2cls[fp.split('_')[0]] = cls_map[cls]"
   ]
  },
  {
   "cell_type": "code",
   "execution_count": 83,
   "metadata": {},
   "outputs": [],
   "source": [
    "# bg:0; cov:1; bacterial:2; fungal:3; non-co-virus:4\n",
    "ds_name = 'diag'\n",
    "\n",
    "ct_list = sorted(Path('origin/xinan').glob('*/work_data/lung_det_xinan_keyan/3d_slice_origin/*/*/*/'))\n",
    "\n",
    "records = []\n",
    "for ctid,ct_fp in enumerate(ct_list):\n",
    "    if 'cov'==ct_fp.parts[2]:\n",
    "        mask = '1'\n",
    "    else:\n",
    "        mask = pid2cls[ct_fp.parts[-3]]\n",
    "    image_from = Path(f'{ds_name}/image/{ctid:06}_')\n",
    "    split_idx = 0\n",
    "    for k,v in vl_pids.items():\n",
    "        if ct_fp.parts[-3] in v:\n",
    "            split_idx = 100\n",
    "            break\n",
    "    png_list = [t for t in sorted(list(ct_fp.glob('*.png'))) if '-' not in str(t.stem)]\n",
    "    h,w,d = None,None,len(png_list)\n",
    "    for idx,png_fp in enumerate(png_list):\n",
    "        if h is None:\n",
    "            w,h = PIL.Image.open(png_fp).size\n",
    "        if '/'.join(png_fp.parts[-4:]) in all_pos_fps[ct_fp.parts[2]]:\n",
    "            mask += mask[0]\n",
    "        else:\n",
    "            mask += '0'\n",
    "    records.append(['',mask,'',h,w,d,'det',image_from,'','',str(split_idx)])"
   ]
  },
  {
   "cell_type": "code",
   "execution_count": 81,
   "metadata": {},
   "outputs": [],
   "source": [
    "columns = ['image','mask','instance','h','w','d','src','image_from','mask_from','instance_from','split']"
   ]
  },
  {
   "cell_type": "code",
   "execution_count": 85,
   "metadata": {},
   "outputs": [
    {
     "name": "stdout",
     "output_type": "stream",
     "text": [
      "[245, 37]\n"
     ]
    },
    {
     "data": {
      "text/plain": [
       "[245, 37]"
      ]
     },
     "execution_count": 85,
     "metadata": {},
     "output_type": "execute_result"
    }
   ],
   "source": [
    "df = pd.DataFrame(records, columns=columns)\n",
    "print([(df.split==str(i)).sum() for i in (0,100)])\n",
    "\n",
    "df.loc[~((df.h==df.w)&(df.h==512)),'split'] = '300'\n",
    "[(df.split==str(i)).sum() for i in (0,100)]"
   ]
  },
  {
   "cell_type": "code",
   "execution_count": 88,
   "metadata": {},
   "outputs": [],
   "source": [
    "df.to_csv('dd1.csv', index=False)"
   ]
  },
  {
   "cell_type": "markdown",
   "metadata": {},
   "source": [
    "### make list day2"
   ]
  },
  {
   "cell_type": "code",
   "execution_count": 8,
   "metadata": {},
   "outputs": [
    {
     "ename": "FileNotFoundError",
     "evalue": "[Errno 2] No such file or directory: 'origin/xinan/cov/work_data/lung_det_xinan_keyan/config/coco_json_origin/image_list_1221.txt'",
     "output_type": "error",
     "traceback": [
      "\u001b[0;31m---------------------------------------------------------------------------\u001b[0m",
      "\u001b[0;31mFileNotFoundError\u001b[0m                         Traceback (most recent call last)",
      "\u001b[0;32m<ipython-input-8-226b3c54c65f>\u001b[0m in \u001b[0;36m<module>\u001b[0;34m\u001b[0m\n\u001b[1;32m      5\u001b[0m \u001b[0mall_pids\u001b[0m \u001b[0;34m=\u001b[0m \u001b[0;34m{\u001b[0m\u001b[0;34m}\u001b[0m\u001b[0;34m\u001b[0m\u001b[0;34m\u001b[0m\u001b[0m\n\u001b[1;32m      6\u001b[0m \u001b[0;32mfor\u001b[0m \u001b[0msubset\u001b[0m \u001b[0;32min\u001b[0m \u001b[0;34m(\u001b[0m\u001b[0;34m'cov'\u001b[0m\u001b[0;34m,\u001b[0m\u001b[0;34m'normal_virus'\u001b[0m\u001b[0;34m,\u001b[0m\u001b[0;34m'xnky_batch0'\u001b[0m\u001b[0;34m,\u001b[0m\u001b[0;34m'xnky_batch1'\u001b[0m\u001b[0;34m)\u001b[0m\u001b[0;34m:\u001b[0m\u001b[0;34m\u001b[0m\u001b[0;34m\u001b[0m\u001b[0m\n\u001b[0;32m----> 7\u001b[0;31m     \u001b[0;32mwith\u001b[0m \u001b[0mopen\u001b[0m\u001b[0;34m(\u001b[0m\u001b[0;34mf'origin/xinan/{subset}/work_data/lung_det_xinan_keyan/config/coco_json_origin/image_list_1221.txt'\u001b[0m\u001b[0;34m,\u001b[0m\u001b[0;34m'r'\u001b[0m\u001b[0;34m)\u001b[0m \u001b[0;32mas\u001b[0m \u001b[0mf\u001b[0m\u001b[0;34m:\u001b[0m\u001b[0;34m\u001b[0m\u001b[0;34m\u001b[0m\u001b[0m\n\u001b[0m\u001b[1;32m      8\u001b[0m         \u001b[0mall_pos_fps\u001b[0m\u001b[0;34m[\u001b[0m\u001b[0msubset\u001b[0m\u001b[0;34m]\u001b[0m \u001b[0;34m=\u001b[0m \u001b[0msorted\u001b[0m\u001b[0;34m(\u001b[0m\u001b[0;34m[\u001b[0m\u001b[0ml\u001b[0m\u001b[0;34m.\u001b[0m\u001b[0mstrip\u001b[0m\u001b[0;34m(\u001b[0m\u001b[0;34m)\u001b[0m \u001b[0;32mfor\u001b[0m \u001b[0ml\u001b[0m \u001b[0;32min\u001b[0m \u001b[0mf\u001b[0m\u001b[0;34m.\u001b[0m\u001b[0mreadlines\u001b[0m\u001b[0;34m(\u001b[0m\u001b[0;34m)\u001b[0m\u001b[0;34m]\u001b[0m\u001b[0;34m)\u001b[0m\u001b[0;34m\u001b[0m\u001b[0;34m\u001b[0m\u001b[0m\n\u001b[1;32m      9\u001b[0m         \u001b[0mall_pos_pids\u001b[0m\u001b[0;34m[\u001b[0m\u001b[0msubset\u001b[0m\u001b[0;34m]\u001b[0m \u001b[0;34m=\u001b[0m \u001b[0mset\u001b[0m\u001b[0;34m(\u001b[0m\u001b[0;34m[\u001b[0m\u001b[0mfp\u001b[0m\u001b[0;34m.\u001b[0m\u001b[0msplit\u001b[0m\u001b[0;34m(\u001b[0m\u001b[0;34m'/'\u001b[0m\u001b[0;34m)\u001b[0m\u001b[0;34m[\u001b[0m\u001b[0;36m0\u001b[0m\u001b[0;34m]\u001b[0m \u001b[0;32mfor\u001b[0m \u001b[0mfp\u001b[0m \u001b[0;32min\u001b[0m \u001b[0mall_pos_fps\u001b[0m\u001b[0;34m[\u001b[0m\u001b[0msubset\u001b[0m\u001b[0;34m]\u001b[0m\u001b[0;34m]\u001b[0m\u001b[0;34m)\u001b[0m\u001b[0;34m\u001b[0m\u001b[0;34m\u001b[0m\u001b[0m\n",
      "\u001b[0;31mFileNotFoundError\u001b[0m: [Errno 2] No such file or directory: 'origin/xinan/cov/work_data/lung_det_xinan_keyan/config/coco_json_origin/image_list_1221.txt'"
     ]
    }
   ],
   "source": [
    "# find pids\n",
    "all_pos_fps = {}\n",
    "all_pos_pids = {}\n",
    "all_fps = {}\n",
    "all_pids = {}\n",
    "for subset in ('cov','normal_virus','xnky_batch0','xnky_batch1'):\n",
    "    with open(f'origin/xinan/{subset}/work_data/lung_det_xinan_keyan/config/coco_json_origin/image_list_1221.txt','r') as f:\n",
    "        all_pos_fps[subset] = sorted([l.strip() for l in f.readlines()])\n",
    "        all_pos_pids[subset] = set([fp.split('/')[0] for fp in all_pos_fps[subset]])\n",
    "    all_fps[subset] = sorted(Path(f'origin/xinan/{subset}/work_data/lung_det_xinan_keyan/3d_slice_origin').glob('*/*/*/*.png'))\n",
    "    all_pids[subset] = set([fp.parts[-4] for fp in all_fps[subset]])\n",
    "\n",
    "vl_pids = {k:np.random.choice(list(v), 10, replace=False).tolist() for k,v in all_pos_pids.items()}"
   ]
  },
  {
   "cell_type": "code",
   "execution_count": 108,
   "metadata": {},
   "outputs": [],
   "source": [
    "# bacterial:2; fungal:3;\n",
    "cls_map = {'0':'2','1':'3'}\n",
    "pid2cls = {}\n",
    "for subset in ['xnky_batch0','xnky_batch1']:\n",
    "    with open(f'origin/xinan/{subset}/auto_rebuild/pid_list.txt','r') as f:\n",
    "        for l in f.readlines():\n",
    "            fp,cls = l.strip().split()\n",
    "            pid2cls[fp.split('_')[0]] = cls_map[cls]"
   ]
  },
  {
   "cell_type": "code",
   "execution_count": 109,
   "metadata": {},
   "outputs": [],
   "source": [
    "# bg:0; cov:1; bacterial:2; fungal:3; non-co-virus:4\n",
    "ds_name = 'diag'\n",
    "\n",
    "ct_list = sorted(Path('origin/xinan').glob('*/work_data/lung_det_xinan_keyan/3d_slice_origin/*/*/*/'))\n",
    "\n",
    "records = []\n",
    "for ctid,ct_fp in enumerate(ct_list):\n",
    "    if 'cov'==ct_fp.parts[2]:\n",
    "        mask = '1'\n",
    "    elif 'normal_virus'==ct_fp.parts[2]:\n",
    "        mask = '4'\n",
    "    else:\n",
    "        mask = pid2cls[ct_fp.parts[-3]]\n",
    "    image_from = Path(f'{ds_name}/image/{ctid:06}_')\n",
    "    split_idx = 0\n",
    "    for k,v in vl_pids.items():\n",
    "        if ct_fp.parts[-3] in v:\n",
    "            split_idx = 100\n",
    "            break\n",
    "    png_list = [t for t in sorted(list(ct_fp.glob('*.png'))) if '-' not in str(t.stem)]\n",
    "    h,w,d = None,None,len(png_list)\n",
    "    for idx,png_fp in enumerate(png_list):\n",
    "        if h is None:\n",
    "            w,h = PIL.Image.open(png_fp).size\n",
    "        if '/'.join(png_fp.parts[-4:]) in all_pos_fps[ct_fp.parts[2]]:\n",
    "            mask += mask[0]\n",
    "        else:\n",
    "            mask += '0'\n",
    "    records.append(['',mask,'',h,w,d,'det',image_from,'','',str(split_idx)])"
   ]
  },
  {
   "cell_type": "code",
   "execution_count": 110,
   "metadata": {},
   "outputs": [],
   "source": [
    "columns = ['image','mask','instance','h','w','d','src','image_from','mask_from','instance_from','split']"
   ]
  },
  {
   "cell_type": "code",
   "execution_count": 111,
   "metadata": {},
   "outputs": [
    {
     "name": "stdout",
     "output_type": "stream",
     "text": [
      "[761, 67]\n"
     ]
    },
    {
     "data": {
      "text/plain": [
       "[761, 67]"
      ]
     },
     "execution_count": 111,
     "metadata": {},
     "output_type": "execute_result"
    }
   ],
   "source": [
    "df = pd.DataFrame(records, columns=columns)\n",
    "print([(df.split==str(i)).sum() for i in (0,100)])\n",
    "\n",
    "df.loc[~((df.h==df.w)&(df.h==512)),'split'] = '300'\n",
    "[(df.split==str(i)).sum() for i in (0,100)]"
   ]
  },
  {
   "cell_type": "code",
   "execution_count": 112,
   "metadata": {},
   "outputs": [],
   "source": [
    "df.to_csv('dd2.csv', index=False)"
   ]
  },
  {
   "cell_type": "code",
   "execution_count": 117,
   "metadata": {},
   "outputs": [
    {
     "data": {
      "text/html": [
       "<div>\n",
       "<style scoped>\n",
       "    .dataframe tbody tr th:only-of-type {\n",
       "        vertical-align: middle;\n",
       "    }\n",
       "\n",
       "    .dataframe tbody tr th {\n",
       "        vertical-align: top;\n",
       "    }\n",
       "\n",
       "    .dataframe thead th {\n",
       "        text-align: right;\n",
       "    }\n",
       "</style>\n",
       "<table border=\"1\" class=\"dataframe\">\n",
       "  <thead>\n",
       "    <tr style=\"text-align: right;\">\n",
       "      <th></th>\n",
       "      <th>image</th>\n",
       "      <th>mask</th>\n",
       "      <th>instance</th>\n",
       "      <th>h</th>\n",
       "      <th>w</th>\n",
       "      <th>d</th>\n",
       "      <th>src</th>\n",
       "      <th>image_from</th>\n",
       "      <th>mask_from</th>\n",
       "      <th>instance_from</th>\n",
       "      <th>split</th>\n",
       "    </tr>\n",
       "  </thead>\n",
       "  <tbody>\n",
       "    <tr>\n",
       "      <th>0</th>\n",
       "      <td></td>\n",
       "      <td>1000000000000000000000000000000000000000000000...</td>\n",
       "      <td></td>\n",
       "      <td>512</td>\n",
       "      <td>512</td>\n",
       "      <td>251</td>\n",
       "      <td>det</td>\n",
       "      <td>diag/image/000000_</td>\n",
       "      <td></td>\n",
       "      <td></td>\n",
       "      <td>0</td>\n",
       "    </tr>\n",
       "    <tr>\n",
       "      <th>1</th>\n",
       "      <td></td>\n",
       "      <td>1000000000000000000000000000000000000000000000...</td>\n",
       "      <td></td>\n",
       "      <td>512</td>\n",
       "      <td>512</td>\n",
       "      <td>272</td>\n",
       "      <td>det</td>\n",
       "      <td>diag/image/000001_</td>\n",
       "      <td></td>\n",
       "      <td></td>\n",
       "      <td>0</td>\n",
       "    </tr>\n",
       "    <tr>\n",
       "      <th>2</th>\n",
       "      <td></td>\n",
       "      <td>1000000000000000000000000000000000000000000000...</td>\n",
       "      <td></td>\n",
       "      <td>512</td>\n",
       "      <td>512</td>\n",
       "      <td>134</td>\n",
       "      <td>det</td>\n",
       "      <td>diag/image/000002_</td>\n",
       "      <td></td>\n",
       "      <td></td>\n",
       "      <td>0</td>\n",
       "    </tr>\n",
       "    <tr>\n",
       "      <th>3</th>\n",
       "      <td></td>\n",
       "      <td>1000000000000000000000000000000000000000000111...</td>\n",
       "      <td></td>\n",
       "      <td>512</td>\n",
       "      <td>512</td>\n",
       "      <td>175</td>\n",
       "      <td>det</td>\n",
       "      <td>diag/image/000003_</td>\n",
       "      <td></td>\n",
       "      <td></td>\n",
       "      <td>0</td>\n",
       "    </tr>\n",
       "    <tr>\n",
       "      <th>4</th>\n",
       "      <td></td>\n",
       "      <td>1000000000000000000000000000000000111111111110...</td>\n",
       "      <td></td>\n",
       "      <td>512</td>\n",
       "      <td>512</td>\n",
       "      <td>168</td>\n",
       "      <td>det</td>\n",
       "      <td>diag/image/000004_</td>\n",
       "      <td></td>\n",
       "      <td></td>\n",
       "      <td>0</td>\n",
       "    </tr>\n",
       "  </tbody>\n",
       "</table>\n",
       "</div>"
      ],
      "text/plain": [
       "  image                                               mask instance    h    w  \\\n",
       "0        1000000000000000000000000000000000000000000000...           512  512   \n",
       "1        1000000000000000000000000000000000000000000000...           512  512   \n",
       "2        1000000000000000000000000000000000000000000000...           512  512   \n",
       "3        1000000000000000000000000000000000000000000111...           512  512   \n",
       "4        1000000000000000000000000000000000111111111110...           512  512   \n",
       "\n",
       "     d  src          image_from mask_from instance_from split  \n",
       "0  251  det  diag/image/000000_                             0  \n",
       "1  272  det  diag/image/000001_                             0  \n",
       "2  134  det  diag/image/000002_                             0  \n",
       "3  175  det  diag/image/000003_                             0  \n",
       "4  168  det  diag/image/000004_                             0  "
      ]
     },
     "execution_count": 117,
     "metadata": {},
     "output_type": "execute_result"
    }
   ],
   "source": [
    "df.head()"
   ]
  },
  {
   "cell_type": "code",
   "execution_count": 182,
   "metadata": {},
   "outputs": [
    {
     "data": {
      "text/plain": [
       "55178"
      ]
     },
     "execution_count": 182,
     "metadata": {},
     "output_type": "execute_result"
    }
   ],
   "source": [
    "df.d.sum()"
   ]
  },
  {
   "cell_type": "code",
   "execution_count": 119,
   "metadata": {},
   "outputs": [
    {
     "name": "stdout",
     "output_type": "stream",
     "text": [
      "199\n",
      "43\n",
      "40\n",
      "546\n"
     ]
    }
   ],
   "source": [
    "for i in range(1,5):\n",
    "    print(sum([t[0]==f'{i}' for t in df['mask']]))"
   ]
  },
  {
   "cell_type": "markdown",
   "metadata": {},
   "source": [
    "### make list hainan(by maoli)"
   ]
  },
  {
   "cell_type": "code",
   "execution_count": 161,
   "metadata": {},
   "outputs": [],
   "source": [
    "# xlsx to csv\n",
    "tdf = pd.read_excel('origin/hainan/gt.xlsx')\n",
    "tdf.to_csv('origin/hainan/gt.csv', index=False)"
   ]
  },
  {
   "cell_type": "code",
   "execution_count": 167,
   "metadata": {},
   "outputs": [],
   "source": [
    "cache_root = Path('a1')/'diag_hainan'\n",
    "(cache_root/'image').mkdir(parents=True)\n",
    "\n",
    "ct_list = sorted(Path('origin/hainan/png').glob('*/'))\n",
    "\n",
    "for ctid,ct_fp in enumerate(ct_list):\n",
    "    png_list = [t for t in sorted(list(ct_fp.glob('*.png'))) if '-' not in str(t.stem)]\n",
    "    for k,png_fp in enumerate(png_list):\n",
    "        # link image\n",
    "        from_fp =cache_root/f'image/{ctid:06}_{k:04}.png'\n",
    "        if not from_fp.exists():\n",
    "            from_fp.symlink_to(f'../../../{png_fp}')"
   ]
  },
  {
   "cell_type": "code",
   "execution_count": 179,
   "metadata": {},
   "outputs": [],
   "source": [
    "# now: cov:1; non-co-virus:0\n",
    "#  to: bg:0; cov:1; bacterial:2; fungal:3; non-co-virus:4\n",
    "\n",
    "tdf = pd.read_csv('origin/hainan/gt.csv')\n",
    "\n",
    "records = []\n",
    "for ctid,ct_fp in enumerate(ct_list):\n",
    "    pid,date = ct_fp.name.split('_')\n",
    "    image_from = Path(f'diag_hainan/image/{ctid:06}_')\n",
    "    png_list = [t for t in sorted(list(ct_fp.glob('*.png'))) if '-' not in str(t.stem)]\n",
    "    d = len(png_list)\n",
    "    w,h = PIL.Image.open(png_list[0]).size\n",
    "    found = (tdf.pid==int(pid))&(tdf.date==int(date))\n",
    "    if found.sum()>0:\n",
    "        label = tdf.loc[found].label.values[0]\n",
    "    else:\n",
    "        assert ct_fp.name=='0826166_20200127'\n",
    "        label = 1\n",
    "    if label==0:\n",
    "        label = 4\n",
    "    mask = f'{label}' * (d+1)\n",
    "    records.append(['',mask,'',h,w,d,'hainan',image_from,'','','0'])"
   ]
  },
  {
   "cell_type": "code",
   "execution_count": 180,
   "metadata": {},
   "outputs": [],
   "source": [
    "columns = ['image','mask','instance','h','w','d','src','image_from','mask_from','instance_from','split']"
   ]
  },
  {
   "cell_type": "code",
   "execution_count": 181,
   "metadata": {},
   "outputs": [],
   "source": [
    "df = pd.DataFrame(records, columns=columns)\n",
    "df.to_csv('dd_hainan.csv', index=False)"
   ]
  },
  {
   "cell_type": "code",
   "execution_count": 178,
   "metadata": {},
   "outputs": [
    {
     "data": {
      "text/html": [
       "<div>\n",
       "<style scoped>\n",
       "    .dataframe tbody tr th:only-of-type {\n",
       "        vertical-align: middle;\n",
       "    }\n",
       "\n",
       "    .dataframe tbody tr th {\n",
       "        vertical-align: top;\n",
       "    }\n",
       "\n",
       "    .dataframe thead th {\n",
       "        text-align: right;\n",
       "    }\n",
       "</style>\n",
       "<table border=\"1\" class=\"dataframe\">\n",
       "  <thead>\n",
       "    <tr style=\"text-align: right;\">\n",
       "      <th></th>\n",
       "      <th>image</th>\n",
       "      <th>mask</th>\n",
       "      <th>instance</th>\n",
       "      <th>h</th>\n",
       "      <th>w</th>\n",
       "      <th>d</th>\n",
       "      <th>src</th>\n",
       "      <th>image_from</th>\n",
       "      <th>mask_from</th>\n",
       "      <th>instance_from</th>\n",
       "      <th>split</th>\n",
       "    </tr>\n",
       "  </thead>\n",
       "  <tbody>\n",
       "    <tr>\n",
       "      <th>0</th>\n",
       "      <td></td>\n",
       "      <td>1111111111111111111111111111111111111111111111...</td>\n",
       "      <td></td>\n",
       "      <td>512</td>\n",
       "      <td>512</td>\n",
       "      <td>201</td>\n",
       "      <td>hainan</td>\n",
       "      <td>diag_hainan/image/000000_</td>\n",
       "      <td></td>\n",
       "      <td></td>\n",
       "      <td>0</td>\n",
       "    </tr>\n",
       "    <tr>\n",
       "      <th>1</th>\n",
       "      <td></td>\n",
       "      <td>1111111111111111111111111111111111111111111111...</td>\n",
       "      <td></td>\n",
       "      <td>512</td>\n",
       "      <td>512</td>\n",
       "      <td>207</td>\n",
       "      <td>hainan</td>\n",
       "      <td>diag_hainan/image/000001_</td>\n",
       "      <td></td>\n",
       "      <td></td>\n",
       "      <td>0</td>\n",
       "    </tr>\n",
       "    <tr>\n",
       "      <th>2</th>\n",
       "      <td></td>\n",
       "      <td>1111111111111111111111111111111111111111111111...</td>\n",
       "      <td></td>\n",
       "      <td>512</td>\n",
       "      <td>512</td>\n",
       "      <td>209</td>\n",
       "      <td>hainan</td>\n",
       "      <td>diag_hainan/image/000002_</td>\n",
       "      <td></td>\n",
       "      <td></td>\n",
       "      <td>0</td>\n",
       "    </tr>\n",
       "    <tr>\n",
       "      <th>3</th>\n",
       "      <td></td>\n",
       "      <td>1111111111111111111111111111111111111111111111...</td>\n",
       "      <td></td>\n",
       "      <td>512</td>\n",
       "      <td>512</td>\n",
       "      <td>217</td>\n",
       "      <td>hainan</td>\n",
       "      <td>diag_hainan/image/000003_</td>\n",
       "      <td></td>\n",
       "      <td></td>\n",
       "      <td>0</td>\n",
       "    </tr>\n",
       "    <tr>\n",
       "      <th>4</th>\n",
       "      <td></td>\n",
       "      <td>1111111111111111111111111111111111111111111111...</td>\n",
       "      <td></td>\n",
       "      <td>512</td>\n",
       "      <td>512</td>\n",
       "      <td>184</td>\n",
       "      <td>hainan</td>\n",
       "      <td>diag_hainan/image/000004_</td>\n",
       "      <td></td>\n",
       "      <td></td>\n",
       "      <td>0</td>\n",
       "    </tr>\n",
       "  </tbody>\n",
       "</table>\n",
       "</div>"
      ],
      "text/plain": [
       "  image                                               mask instance    h    w  \\\n",
       "0        1111111111111111111111111111111111111111111111...           512  512   \n",
       "1        1111111111111111111111111111111111111111111111...           512  512   \n",
       "2        1111111111111111111111111111111111111111111111...           512  512   \n",
       "3        1111111111111111111111111111111111111111111111...           512  512   \n",
       "4        1111111111111111111111111111111111111111111111...           512  512   \n",
       "\n",
       "     d     src                 image_from mask_from instance_from split  \n",
       "0  201  hainan  diag_hainan/image/000000_                             0  \n",
       "1  207  hainan  diag_hainan/image/000001_                             0  \n",
       "2  209  hainan  diag_hainan/image/000002_                             0  \n",
       "3  217  hainan  diag_hainan/image/000003_                             0  \n",
       "4  184  hainan  diag_hainan/image/000004_                             0  "
      ]
     },
     "execution_count": 178,
     "metadata": {},
     "output_type": "execute_result"
    }
   ],
   "source": [
    "df.head()"
   ]
  },
  {
   "cell_type": "code",
   "execution_count": null,
   "metadata": {},
   "outputs": [],
   "source": []
  }
 ],
 "metadata": {
  "kernelspec": {
   "display_name": "Python 3",
   "language": "python",
   "name": "python3"
  },
  "language_info": {
   "codemirror_mode": {
    "name": "ipython",
    "version": 3
   },
   "file_extension": ".py",
   "mimetype": "text/x-python",
   "name": "python",
   "nbconvert_exporter": "python",
   "pygments_lexer": "ipython3",
   "version": "3.7.3"
  }
 },
 "nbformat": 4,
 "nbformat_minor": 4
}
