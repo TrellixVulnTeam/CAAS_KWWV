{
 "cells": [
  {
   "cell_type": "code",
   "execution_count": 1,
   "metadata": {},
   "outputs": [
    {
     "data": {
      "application/javascript": [
       "IPython.notebook.set_autosave_interval(1000)"
      ]
     },
     "metadata": {},
     "output_type": "display_data"
    },
    {
     "name": "stdout",
     "output_type": "stream",
     "text": [
      "Autosaving every 1 seconds\n"
     ]
    }
   ],
   "source": [
    "%autosave 1\n",
    "%reload_ext autoreload\n",
    "%autoreload 2\n",
    "%load_ext line_profiler"
   ]
  },
  {
   "cell_type": "code",
   "execution_count": 2,
   "metadata": {},
   "outputs": [
    {
     "name": "stdout",
     "output_type": "stream",
     "text": [
      "Requirement already satisfied: fastai in /home/majiechao/anaconda3/lib/python3.7/site-packages (1.0.61)\n",
      "Requirement already satisfied: numpy>=1.15 in /home/majiechao/anaconda3/lib/python3.7/site-packages (from fastai) (1.16.4)\n",
      "Requirement already satisfied: bottleneck in /home/majiechao/anaconda3/lib/python3.7/site-packages (from fastai) (1.2.1)\n",
      "Requirement already satisfied: nvidia-ml-py3 in /home/majiechao/anaconda3/lib/python3.7/site-packages (from fastai) (7.352.0)\n",
      "Requirement already satisfied: beautifulsoup4 in /home/majiechao/anaconda3/lib/python3.7/site-packages (from fastai) (4.7.1)\n",
      "Requirement already satisfied: torchvision in /home/majiechao/anaconda3/lib/python3.7/site-packages/torchvision-0.4.2-py3.7-linux-x86_64.egg (from fastai) (0.4.2)\n",
      "Requirement already satisfied: requests in /home/majiechao/anaconda3/lib/python3.7/site-packages (from fastai) (2.22.0)\n",
      "Requirement already satisfied: scipy in /home/majiechao/anaconda3/lib/python3.7/site-packages (from fastai) (1.3.0)\n",
      "Requirement already satisfied: Pillow in /home/majiechao/anaconda3/lib/python3.7/site-packages (from fastai) (6.1.0)\n",
      "Requirement already satisfied: spacy>=2.0.18; python_version < \"3.8\" in /home/majiechao/anaconda3/lib/python3.7/site-packages (from fastai) (2.3.2)\n",
      "Requirement already satisfied: fastprogress>=0.2.1 in /home/majiechao/anaconda3/lib/python3.7/site-packages (from fastai) (0.2.3)\n",
      "Requirement already satisfied: pandas in /home/majiechao/anaconda3/lib/python3.7/site-packages (from fastai) (0.24.2)\n",
      "Requirement already satisfied: torch>=1.0.0 in /home/majiechao/anaconda3/lib/python3.7/site-packages (from fastai) (1.1.0)\n",
      "Requirement already satisfied: matplotlib in /home/majiechao/anaconda3/lib/python3.7/site-packages (from fastai) (3.1.0)\n",
      "Requirement already satisfied: packaging in /home/majiechao/anaconda3/lib/python3.7/site-packages (from fastai) (19.0)\n",
      "Requirement already satisfied: pyyaml in /home/majiechao/anaconda3/lib/python3.7/site-packages (from fastai) (5.1.1)\n",
      "Requirement already satisfied: numexpr in /home/majiechao/anaconda3/lib/python3.7/site-packages (from fastai) (2.6.9)\n",
      "Requirement already satisfied: soupsieve>=1.2 in /home/majiechao/anaconda3/lib/python3.7/site-packages (from beautifulsoup4->fastai) (1.8)\n",
      "Requirement already satisfied: six in /home/majiechao/anaconda3/lib/python3.7/site-packages (from torchvision->fastai) (1.12.0)\n",
      "Requirement already satisfied: idna<2.9,>=2.5 in /home/majiechao/anaconda3/lib/python3.7/site-packages (from requests->fastai) (2.8)\n",
      "Requirement already satisfied: chardet<3.1.0,>=3.0.2 in /home/majiechao/anaconda3/lib/python3.7/site-packages (from requests->fastai) (3.0.4)\n",
      "Requirement already satisfied: urllib3!=1.25.0,!=1.25.1,<1.26,>=1.21.1 in /home/majiechao/anaconda3/lib/python3.7/site-packages (from requests->fastai) (1.24.2)\n",
      "Requirement already satisfied: certifi>=2017.4.17 in /home/majiechao/anaconda3/lib/python3.7/site-packages (from requests->fastai) (2019.6.16)\n",
      "Requirement already satisfied: catalogue<1.1.0,>=0.0.7 in /home/majiechao/anaconda3/lib/python3.7/site-packages (from spacy>=2.0.18; python_version < \"3.8\"->fastai) (1.0.0)\n",
      "Requirement already satisfied: plac<1.2.0,>=0.9.6 in /home/majiechao/anaconda3/lib/python3.7/site-packages (from spacy>=2.0.18; python_version < \"3.8\"->fastai) (1.1.3)\n",
      "Requirement already satisfied: wasabi<1.1.0,>=0.4.0 in /home/majiechao/anaconda3/lib/python3.7/site-packages (from spacy>=2.0.18; python_version < \"3.8\"->fastai) (0.7.1)\n",
      "Requirement already satisfied: preshed<3.1.0,>=3.0.2 in /home/majiechao/anaconda3/lib/python3.7/site-packages (from spacy>=2.0.18; python_version < \"3.8\"->fastai) (3.0.2)\n",
      "Requirement already satisfied: blis<0.5.0,>=0.4.0 in /home/majiechao/anaconda3/lib/python3.7/site-packages (from spacy>=2.0.18; python_version < \"3.8\"->fastai) (0.4.1)\n",
      "Requirement already satisfied: murmurhash<1.1.0,>=0.28.0 in /home/majiechao/anaconda3/lib/python3.7/site-packages (from spacy>=2.0.18; python_version < \"3.8\"->fastai) (1.0.2)\n",
      "Requirement already satisfied: setuptools in /home/majiechao/anaconda3/lib/python3.7/site-packages (from spacy>=2.0.18; python_version < \"3.8\"->fastai) (41.0.1)\n",
      "Requirement already satisfied: tqdm<5.0.0,>=4.38.0 in /home/majiechao/anaconda3/lib/python3.7/site-packages (from spacy>=2.0.18; python_version < \"3.8\"->fastai) (4.48.0)\n",
      "Requirement already satisfied: srsly<1.1.0,>=1.0.2 in /home/majiechao/anaconda3/lib/python3.7/site-packages (from spacy>=2.0.18; python_version < \"3.8\"->fastai) (1.0.2)\n",
      "Requirement already satisfied: thinc==7.4.1 in /home/majiechao/anaconda3/lib/python3.7/site-packages (from spacy>=2.0.18; python_version < \"3.8\"->fastai) (7.4.1)\n",
      "Requirement already satisfied: cymem<2.1.0,>=2.0.2 in /home/majiechao/anaconda3/lib/python3.7/site-packages (from spacy>=2.0.18; python_version < \"3.8\"->fastai) (2.0.3)\n",
      "Requirement already satisfied: pytz>=2011k in /home/majiechao/anaconda3/lib/python3.7/site-packages (from pandas->fastai) (2019.1)\n",
      "Requirement already satisfied: python-dateutil>=2.5.0 in /home/majiechao/anaconda3/lib/python3.7/site-packages (from pandas->fastai) (2.8.0)\n",
      "Requirement already satisfied: cycler>=0.10 in /home/majiechao/anaconda3/lib/python3.7/site-packages (from matplotlib->fastai) (0.10.0)\n",
      "Requirement already satisfied: kiwisolver>=1.0.1 in /home/majiechao/anaconda3/lib/python3.7/site-packages (from matplotlib->fastai) (1.1.0)\n",
      "Requirement already satisfied: pyparsing!=2.0.4,!=2.1.2,!=2.1.6,>=2.0.1 in /home/majiechao/anaconda3/lib/python3.7/site-packages (from matplotlib->fastai) (2.4.0)\n",
      "Requirement already satisfied: importlib-metadata>=0.20; python_version < \"3.8\" in /home/majiechao/anaconda3/lib/python3.7/site-packages (from catalogue<1.1.0,>=0.0.7->spacy>=2.0.18; python_version < \"3.8\"->fastai) (1.7.0)\n",
      "Requirement already satisfied: zipp>=0.5 in /home/majiechao/anaconda3/lib/python3.7/site-packages (from importlib-metadata>=0.20; python_version < \"3.8\"->catalogue<1.1.0,>=0.0.7->spacy>=2.0.18; python_version < \"3.8\"->fastai) (0.5.1)\n",
      "Requirement already satisfied: ipdb in /home/majiechao/anaconda3/lib/python3.7/site-packages (0.13.2)\n",
      "Requirement already satisfied: setuptools in /home/majiechao/anaconda3/lib/python3.7/site-packages (from ipdb) (41.0.1)\n",
      "Requirement already satisfied: ipython>=5.1.0; python_version >= \"3.4\" in /home/majiechao/anaconda3/lib/python3.7/site-packages (from ipdb) (7.6.1)\n",
      "Requirement already satisfied: pickleshare in /home/majiechao/anaconda3/lib/python3.7/site-packages (from ipython>=5.1.0; python_version >= \"3.4\"->ipdb) (0.7.5)\n",
      "Requirement already satisfied: prompt-toolkit<2.1.0,>=2.0.0 in /home/majiechao/anaconda3/lib/python3.7/site-packages (from ipython>=5.1.0; python_version >= \"3.4\"->ipdb) (2.0.9)\n",
      "Requirement already satisfied: decorator in /home/majiechao/anaconda3/lib/python3.7/site-packages (from ipython>=5.1.0; python_version >= \"3.4\"->ipdb) (4.4.0)\n",
      "Requirement already satisfied: traitlets>=4.2 in /home/majiechao/anaconda3/lib/python3.7/site-packages (from ipython>=5.1.0; python_version >= \"3.4\"->ipdb) (4.3.2)\n",
      "Requirement already satisfied: jedi>=0.10 in /home/majiechao/anaconda3/lib/python3.7/site-packages (from ipython>=5.1.0; python_version >= \"3.4\"->ipdb) (0.13.3)\n",
      "Requirement already satisfied: backcall in /home/majiechao/anaconda3/lib/python3.7/site-packages (from ipython>=5.1.0; python_version >= \"3.4\"->ipdb) (0.1.0)\n",
      "Requirement already satisfied: pygments in /home/majiechao/anaconda3/lib/python3.7/site-packages (from ipython>=5.1.0; python_version >= \"3.4\"->ipdb) (2.4.2)\n",
      "Requirement already satisfied: pexpect; sys_platform != \"win32\" in /home/majiechao/anaconda3/lib/python3.7/site-packages (from ipython>=5.1.0; python_version >= \"3.4\"->ipdb) (4.7.0)\n",
      "Requirement already satisfied: wcwidth in /home/majiechao/anaconda3/lib/python3.7/site-packages (from prompt-toolkit<2.1.0,>=2.0.0->ipython>=5.1.0; python_version >= \"3.4\"->ipdb) (0.1.7)\n",
      "Requirement already satisfied: six>=1.9.0 in /home/majiechao/anaconda3/lib/python3.7/site-packages (from prompt-toolkit<2.1.0,>=2.0.0->ipython>=5.1.0; python_version >= \"3.4\"->ipdb) (1.12.0)\n",
      "Requirement already satisfied: ipython-genutils in /home/majiechao/anaconda3/lib/python3.7/site-packages (from traitlets>=4.2->ipython>=5.1.0; python_version >= \"3.4\"->ipdb) (0.2.0)\n",
      "Requirement already satisfied: parso>=0.3.0 in /home/majiechao/anaconda3/lib/python3.7/site-packages (from jedi>=0.10->ipython>=5.1.0; python_version >= \"3.4\"->ipdb) (0.5.0)\n",
      "Requirement already satisfied: ptyprocess>=0.5 in /home/majiechao/anaconda3/lib/python3.7/site-packages (from pexpect; sys_platform != \"win32\"->ipython>=5.1.0; python_version >= \"3.4\"->ipdb) (0.6.0)\n",
      "Requirement already satisfied: opencv-python in /home/majiechao/anaconda3/lib/python3.7/site-packages (4.1.2.30)\n",
      "Requirement already satisfied: numpy>=1.14.5 in /home/majiechao/anaconda3/lib/python3.7/site-packages (from opencv-python) (1.16.4)\n",
      "Requirement already satisfied: nibabel in /home/majiechao/anaconda3/lib/python3.7/site-packages (3.1.1)\n",
      "Requirement already satisfied: packaging>=14.3 in /home/majiechao/anaconda3/lib/python3.7/site-packages (from nibabel) (19.0)\n",
      "Requirement already satisfied: numpy>=1.13 in /home/majiechao/anaconda3/lib/python3.7/site-packages (from nibabel) (1.16.4)\n",
      "Requirement already satisfied: pyparsing>=2.0.2 in /home/majiechao/anaconda3/lib/python3.7/site-packages (from packaging>=14.3->nibabel) (2.4.0)\n",
      "Requirement already satisfied: six in /home/majiechao/anaconda3/lib/python3.7/site-packages (from packaging>=14.3->nibabel) (1.12.0)\n",
      "Collecting scikit-images\n",
      "\u001b[31m  ERROR: Could not find a version that satisfies the requirement scikit-images (from versions: none)\u001b[0m\n",
      "\u001b[31mERROR: No matching distribution found for scikit-images\u001b[0m\n"
     ]
    }
   ],
   "source": [
    "!pip install fastai\n",
    "!pip install ipdb\n",
    "!pip install opencv-python\n",
    "!pip install nibabel\n",
    "!pip install scikit-images"
   ]
  },
  {
   "cell_type": "code",
   "execution_count": 10,
   "metadata": {},
   "outputs": [],
   "source": [
    "from multiprocessing import Pool\n",
    "\n",
    "import ipdb\n",
    "\n",
    "import cv2\n",
    "import nibabel as nib\n",
    "from skimage import measure\n",
    "from skimage import morphology\n",
    "\n",
    "from fastai.vision import *\n",
    "import datetime"
   ]
  },
  {
   "cell_type": "markdown",
   "metadata": {},
   "source": [
    "### make/copy/link"
   ]
  },
  {
   "cell_type": "code",
   "execution_count": 11,
   "metadata": {},
   "outputs": [],
   "source": [
    "dataset_dict = {\n",
    "     'xn1': '/lung_general_data/Datasets/xinan/cov/CT20200206002',\n",
    "#     'xn3':'/lung_general_data/Datasets/COV_DATA/xinan/CT20200217001',\n",
    "#     'xn4':'/lung_general_data/Datasets/COV_DATA/xinan/CT20200220002',\n",
    "    'xnb0': '/lung_general_data/Datasets/xinan/xnky_batch0',\n",
    "#     'xnb1': '/lung_general_data/Datasets/xinan/xnky_batch1',\n",
    "#     'xnnv': '/lung_general_data/Datasets/xinan/normal_virus/CT20200220003',\n",
    "#     'xnb2':'/lung_general_data/Datasets/xinan/xnky_batch2/CT20200319003',\n",
    "#     'hn1':'/lung_general_data/Datasets/COV_DATA/hndata/CT20200225001',\n",
    "#     'hn2':'/lung_general_data/Datasets/COV_DATA/hndata/CT20200226001',\n",
    "#     'hn3':'/lung_general_data/Datasets/COV_DATA/hndata/CT20200226002',\n",
    "#     'hn4':'/lung_general_data/Datasets/COV_DATA/hndata/CT20200306001',\n",
    "#     'hn5':'/lung_general_data/Datasets/COV_DATA/hndata/CT20200308001',\n",
    "#     'hn4t':'/lung_general_data/Datasets/COV_DATA/hndata/CT20200310003',\n",
    "#     'gz1':'/lung_general_data/Datasets/COV_DATA/zzdata/CT20200219001'\n",
    "}\n",
    "dataset_label = {\n",
    "    'xn1': '1',\n",
    "#     'xn3':'1',\n",
    "#     'xn4':'1',\n",
    "#     'hn1':'1',\n",
    "#     'hn2':'1',\n",
    "#     'hn3':'1',\n",
    "#     'hn4':'1',\n",
    "#     'hn4t':'1',\n",
    "#     'gz1':'1',\n",
    "#     'hn5':'2',\n",
    "    'xnb0':'2',\n",
    "#     'xnb1':'2',\n",
    "#     'xnb2':'2',\n",
    "#     'xnnv':'2'\n",
    "}"
   ]
  },
  {
   "cell_type": "code",
   "execution_count": 12,
   "metadata": {},
   "outputs": [
    {
     "name": "stdout",
     "output_type": "stream",
     "text": [
      "True\n",
      "rsync /lung_general_data/Datasets/xinan/cov/CT20200206002/work_data/lung_det_xinan_keyan/config/coco_json_origin/image_list_1221.txt /lung_general_data/Datasets/lung_diagnosis/diag/data/lung_inflammation/origin/pneumonia/xn1/work_data/lung_det_xinan_keyan/config/coco_json_origin\n",
      "True\n",
      "rsync /lung_general_data/Datasets/xinan/xnky_batch0/work_data/lung_det_xinan_keyan/config/coco_json_origin/image_list_1221.txt /lung_general_data/Datasets/lung_diagnosis/diag/data/lung_inflammation/origin/pneumonia/xnb0/work_data/lung_det_xinan_keyan/config/coco_json_origin\n"
     ]
    }
   ],
   "source": [
    "ds_root = Path('/lung_general_data/Datasets/lung_diagnosis/diag/data/lung_inflammation/origin/pneumonia')\n",
    "\n",
    "for ds_name,src in dataset_dict.items():\n",
    "    sub_dir1 = ds_root/ds_name/'work_data/lung_det_xinan_keyan'\n",
    "    sub_dir1.mkdir(parents=True, exist_ok=True)\n",
    "    im_dir = sub_dir1/'3d_slice_origin'\n",
    "    print(im_dir.exists())\n",
    "    if not im_dir.exists():\n",
    "        im_dir.symlink_to(Path(src)/'work_data/lung_det_xinan_keyan/3d_slice_origin')\n",
    "    sub_dir2 = sub_dir1/'config/coco_json_origin'\n",
    "    sub_dir2.mkdir(parents=True, exist_ok=True)\n",
    "    src_fp = Path(src)/'work_data/lung_det_xinan_keyan/config/coco_json_origin/image_list_1221.txt'\n",
    "    #cmd = f'rsync -au i13:{src_fp} {sub_dir2}'\n",
    "    cmd = f'rsync {src_fp} {sub_dir2}'\n",
    "    print(cmd)\n",
    "    os.system(cmd)"
   ]
  },
  {
   "cell_type": "code",
   "execution_count": null,
   "metadata": {},
   "outputs": [],
   "source": []
  },
  {
   "cell_type": "code",
   "execution_count": 16,
   "metadata": {},
   "outputs": [],
   "source": [
    "cache_root = Path('/lung_general_data/jiechao/dataset0728')/'diag'\n"
   ]
  },
  {
   "cell_type": "code",
   "execution_count": null,
   "metadata": {},
   "outputs": [],
   "source": []
  },
  {
   "cell_type": "markdown",
   "metadata": {},
   "source": [
    "### prepare images"
   ]
  },
  {
   "cell_type": "code",
   "execution_count": 20,
   "metadata": {},
   "outputs": [
    {
     "name": "stdout",
     "output_type": "stream",
     "text": [
      "[PosixPath('/lung_general_data/Datasets/lung_diagnosis/diag/data/lung_inflammation/origin/pneumonia/gz1/work_data/lung_det_xinan_keyan/3d_slice_origin/0825695/1.2.392.200036.9125.2.138612190166.20110508000138.20200127000094/1.2.156.14702.1.1001.17.1.2020012711122087315422238'), PosixPath('/lung_general_data/Datasets/lung_diagnosis/diag/data/lung_inflammation/origin/pneumonia/gz1/work_data/lung_det_xinan_keyan/3d_slice_origin/0825695/1.2.392.200036.9125.2.138612190166.20110508000138.20200127000094/1.2.156.14702.1.1001.17.1.2020012711122087320886872'), PosixPath('/lung_general_data/Datasets/lung_diagnosis/diag/data/lung_inflammation/origin/pneumonia/gz1/work_data/lung_det_xinan_keyan/3d_slice_origin/0825696/1.2.392.200036.9125.2.138612190166.20110508000138.20200127000157/1.2.156.14702.1.1001.17.1.2020012714534390611068001')]\n"
     ]
    }
   ],
   "source": [
    "cache_root = Path('/lung_general_data/jiechao/dataset0728')/'diag'\n",
    "(cache_root/'image').mkdir(parents=True, exist_ok=True)\n",
    "\n",
    "ct_list = sorted(Path('/lung_general_data/Datasets/lung_diagnosis/diag/data/lung_inflammation/origin/pneumonia').glob('*/work_data/lung_det_xinan_keyan/3d_slice_origin/*/*/*/'))\n",
    "print(ct_list[:3])\n",
    "\n",
    "#Need to rerun every time we add new data to the full-dataset\n",
    "for ctid,ct_fp in enumerate(ct_list):\n",
    "    png_list = [t for t in sorted(list(ct_fp.glob('*.png'))) if '-' not in str(t.stem)]\n",
    "    for k,png_fp in enumerate(png_list):\n",
    "        # link image\n",
    "        from_fp =cache_root/f'image/{ctid:06}_{k:04}.png'\n",
    "        if not from_fp.exists():\n",
    "            try:\n",
    "                from_fp.symlink_to(f'{png_fp}')\n",
    "            except:\n",
    "                pass\n",
    "            #from_fp.symlink_to(f'../../../{png_fp}')"
   ]
  },
  {
   "cell_type": "markdown",
   "metadata": {},
   "source": [
    "### Make list for  CAP(0) vs COV(1) vs Others(0)"
   ]
  },
  {
   "cell_type": "code",
   "execution_count": 21,
   "metadata": {},
   "outputs": [
    {
     "name": "stdout",
     "output_type": "stream",
     "text": [
      "dict_keys(['xn1', 'xnb0'])\n",
      "{'xn1': {'0822184', '0822197', '0822199', '0822202', '0822220', '0822230', '0822182', '0822241', '0822183'}, 'xnb0': {'0804127', '0804110', '0804114'}}\n"
     ]
    }
   ],
   "source": [
    "# find pids    \n",
    "#MAKE POS \n",
    "all_pos_fps = {}\n",
    "all_pos_pids = {}\n",
    "all_fps = {}\n",
    "all_pids = {}\n",
    "print(dataset_dict.keys())\n",
    "for subset in dataset_dict.keys():\n",
    "    with open(f'/lung_general_data/Datasets/lung_diagnosis/diag/data/lung_inflammation/origin/pneumonia/{subset}/work_data/lung_det_xinan_keyan/config/coco_json_origin/image_list_1221.txt','r') as f:\n",
    "        all_pos_fps[subset] = sorted([l.strip() for l in f.readlines()])\n",
    "        all_pos_pids[subset] = set([fp.split('/')[0] for fp in all_pos_fps[subset]])\n",
    "    all_fps[subset] = sorted(Path(f'/lung_general_data/Datasets/lung_diagnosis/diag/data/lung_inflammation/origin/pneumonia/{subset}/work_data/lung_det_xinan_keyan/3d_slice_origin').glob('*/*/*/*.png'))\n",
    "    all_pids[subset] = set([fp.parts[-4] for fp in all_fps[subset]])\n",
    "    \n",
    "#vl_pids = {k:np.random.choice(list(v), 10, replace=False).tolist() for k,v in all_pos_pids.items()}\n",
    "# Choose 10% for validataion  \n",
    "##### Run only once######\n",
    "vl_pids = {subset : set(np.random.choice(list(v), int(0.1*len(v)), replace=False).tolist()) for subset , v in all_pos_pids.items()}\n",
    "print(vl_pids)"
   ]
  },
  {
   "cell_type": "code",
   "execution_count": 37,
   "metadata": {},
   "outputs": [],
   "source": [
    "# bg:0; cov:1; cap:2; \n",
    "ds_name = 'diag'\n",
    "\n",
    "ct_list = sorted(Path('/lung_general_data/Datasets/lung_diagnosis/diag/data/lung_inflammation/origin/pneumonia').glob('*/work_data/lung_det_xinan_keyan/3d_slice_origin/*/*/*/'))\n",
    "\n",
    "records = []\n",
    "for ctid,ct_fp in enumerate(ct_list):\n",
    "    if ct_fp.parts[9] == 'neg':\n",
    "        break\n",
    "    if ct_fp.parts[9] not in dataset_dict.keys():\n",
    "        continue\n",
    "    mask = dataset_label[ct_fp.parts[9]]\n",
    "    image_from = Path(f'{ds_name}/image/{ctid:06}_')\n",
    "    split_idx = 0\n",
    "    for k,v in vl_pids.items():\n",
    "        if ct_fp.parts[-3] in v:\n",
    "            split_idx = 100\n",
    "            break\n",
    "    png_list = [t for t in sorted(list(ct_fp.glob('*.png'))) if '-' not in str(t.stem)]\n",
    "    h,w,d = None,None,len(png_list)\n",
    "    for idx,png_fp in enumerate(png_list):\n",
    "        if h is None:\n",
    "            w,h = PIL.Image.open(png_fp).size\n",
    "        if '/'.join(png_fp.parts[-4:]) in all_pos_fps[ct_fp.parts[9]]:\n",
    "            mask += mask[0]\n",
    "        else:\n",
    "            mask += '0'\n",
    "    records.append(['',mask,'',h,w,d,'det',image_from,'','',str(split_idx)])"
   ]
  },
  {
   "cell_type": "code",
   "execution_count": 38,
   "metadata": {},
   "outputs": [
    {
     "data": {
      "text/plain": [
       "236"
      ]
     },
     "execution_count": 38,
     "metadata": {},
     "output_type": "execute_result"
    }
   ],
   "source": [
    "len(records)"
   ]
  },
  {
   "cell_type": "code",
   "execution_count": null,
   "metadata": {},
   "outputs": [],
   "source": []
  },
  {
   "cell_type": "code",
   "execution_count": null,
   "metadata": {},
   "outputs": [],
   "source": []
  },
  {
   "cell_type": "code",
   "execution_count": null,
   "metadata": {},
   "outputs": [],
   "source": []
  },
  {
   "cell_type": "code",
   "execution_count": 39,
   "metadata": {},
   "outputs": [],
   "source": [
    "columns = ['image','mask','instance','h','w','d','src','image_from','mask_from','instance_from','split']"
   ]
  },
  {
   "cell_type": "code",
   "execution_count": 40,
   "metadata": {},
   "outputs": [
    {
     "name": "stdout",
     "output_type": "stream",
     "text": [
      "[211, 25]\n"
     ]
    },
    {
     "data": {
      "text/plain": [
       "[211, 25]"
      ]
     },
     "execution_count": 40,
     "metadata": {},
     "output_type": "execute_result"
    }
   ],
   "source": [
    "df = pd.DataFrame(records, columns=columns)\n",
    "print([(df.split==str(i)).sum() for i in (0,100)])\n",
    "\n",
    "df.loc[~((df.h==df.w)&(df.h==512)),'split'] = '300'\n",
    "[(df.split==str(i)).sum() for i in (0,100)]"
   ]
  },
  {
   "cell_type": "code",
   "execution_count": 42,
   "metadata": {},
   "outputs": [],
   "source": [
    "df.to_csv('/lung_general_data/jiechao/dataset0728/dd'+ str(datetime.datetime.now()) + '.csv', index=False)"
   ]
  },
  {
   "cell_type": "code",
   "execution_count": 43,
   "metadata": {},
   "outputs": [
    {
     "data": {
      "text/html": [
       "<div>\n",
       "<style scoped>\n",
       "    .dataframe tbody tr th:only-of-type {\n",
       "        vertical-align: middle;\n",
       "    }\n",
       "\n",
       "    .dataframe tbody tr th {\n",
       "        vertical-align: top;\n",
       "    }\n",
       "\n",
       "    .dataframe thead th {\n",
       "        text-align: right;\n",
       "    }\n",
       "</style>\n",
       "<table border=\"1\" class=\"dataframe\">\n",
       "  <thead>\n",
       "    <tr style=\"text-align: right;\">\n",
       "      <th></th>\n",
       "      <th>image</th>\n",
       "      <th>mask</th>\n",
       "      <th>instance</th>\n",
       "      <th>h</th>\n",
       "      <th>w</th>\n",
       "      <th>d</th>\n",
       "      <th>src</th>\n",
       "      <th>image_from</th>\n",
       "      <th>mask_from</th>\n",
       "      <th>instance_from</th>\n",
       "      <th>split</th>\n",
       "    </tr>\n",
       "  </thead>\n",
       "  <tbody>\n",
       "    <tr>\n",
       "      <th>231</th>\n",
       "      <td></td>\n",
       "      <td>2000000000022222222222222222222222222222222222...</td>\n",
       "      <td></td>\n",
       "      <td>512</td>\n",
       "      <td>512</td>\n",
       "      <td>110</td>\n",
       "      <td>det</td>\n",
       "      <td>diag/image/008385_</td>\n",
       "      <td></td>\n",
       "      <td></td>\n",
       "      <td>0</td>\n",
       "    </tr>\n",
       "    <tr>\n",
       "      <th>232</th>\n",
       "      <td></td>\n",
       "      <td>2000000000022222222222222222222222222222222222...</td>\n",
       "      <td></td>\n",
       "      <td>512</td>\n",
       "      <td>512</td>\n",
       "      <td>67</td>\n",
       "      <td>det</td>\n",
       "      <td>diag/image/008386_</td>\n",
       "      <td></td>\n",
       "      <td></td>\n",
       "      <td>0</td>\n",
       "    </tr>\n",
       "    <tr>\n",
       "      <th>233</th>\n",
       "      <td></td>\n",
       "      <td>2000000000000000000002222222222222222222222222...</td>\n",
       "      <td></td>\n",
       "      <td>512</td>\n",
       "      <td>512</td>\n",
       "      <td>97</td>\n",
       "      <td>det</td>\n",
       "      <td>diag/image/008387_</td>\n",
       "      <td></td>\n",
       "      <td></td>\n",
       "      <td>0</td>\n",
       "    </tr>\n",
       "    <tr>\n",
       "      <th>234</th>\n",
       "      <td></td>\n",
       "      <td>2000000220222222222222222222222222222222222222...</td>\n",
       "      <td></td>\n",
       "      <td>512</td>\n",
       "      <td>512</td>\n",
       "      <td>83</td>\n",
       "      <td>det</td>\n",
       "      <td>diag/image/008388_</td>\n",
       "      <td></td>\n",
       "      <td></td>\n",
       "      <td>0</td>\n",
       "    </tr>\n",
       "    <tr>\n",
       "      <th>235</th>\n",
       "      <td></td>\n",
       "      <td>2000000000022222222222222222222222222222222222...</td>\n",
       "      <td></td>\n",
       "      <td>512</td>\n",
       "      <td>512</td>\n",
       "      <td>88</td>\n",
       "      <td>det</td>\n",
       "      <td>diag/image/008389_</td>\n",
       "      <td></td>\n",
       "      <td></td>\n",
       "      <td>0</td>\n",
       "    </tr>\n",
       "  </tbody>\n",
       "</table>\n",
       "</div>"
      ],
      "text/plain": [
       "    image                                               mask instance    h  \\\n",
       "231        2000000000022222222222222222222222222222222222...           512   \n",
       "232        2000000000022222222222222222222222222222222222...           512   \n",
       "233        2000000000000000000002222222222222222222222222...           512   \n",
       "234        2000000220222222222222222222222222222222222222...           512   \n",
       "235        2000000000022222222222222222222222222222222222...           512   \n",
       "\n",
       "       w    d  src          image_from mask_from instance_from split  \n",
       "231  512  110  det  diag/image/008385_                             0  \n",
       "232  512   67  det  diag/image/008386_                             0  \n",
       "233  512   97  det  diag/image/008387_                             0  \n",
       "234  512   83  det  diag/image/008388_                             0  \n",
       "235  512   88  det  diag/image/008389_                             0  "
      ]
     },
     "execution_count": 43,
     "metadata": {},
     "output_type": "execute_result"
    }
   ],
   "source": [
    "df.tail()"
   ]
  },
  {
   "cell_type": "code",
   "execution_count": 44,
   "metadata": {},
   "outputs": [
    {
     "data": {
      "text/plain": [
       "43483"
      ]
     },
     "execution_count": 44,
     "metadata": {},
     "output_type": "execute_result"
    }
   ],
   "source": [
    "#统计所有样本的数量（包含了0）\n",
    "df.d.sum()"
   ]
  },
  {
   "cell_type": "code",
   "execution_count": 45,
   "metadata": {},
   "outputs": [
    {
     "name": "stdout",
     "output_type": "stream",
     "text": [
      "0\n",
      "199\n",
      "37\n"
     ]
    }
   ],
   "source": [
    "# 统计正负样本的CT数量\n",
    "for i in range(0,3):\n",
    "    print(sum([t[0]==f'{i}' for t in df['mask']]))"
   ]
  },
  {
   "cell_type": "markdown",
   "metadata": {},
   "source": [
    "### make list hainan(by maoli)"
   ]
  },
  {
   "cell_type": "code",
   "execution_count": 161,
   "metadata": {},
   "outputs": [],
   "source": [
    "# xlsx to csv\n",
    "tdf = pd.read_excel('origin/hainan/gt.xlsx')\n",
    "tdf.to_csv('origin/hainan/gt.csv', index=False)"
   ]
  },
  {
   "cell_type": "code",
   "execution_count": 167,
   "metadata": {},
   "outputs": [],
   "source": [
    "cache_root = Path('a1')/'diag_hainan'\n",
    "(cache_root/'image').mkdir(parents=True)\n",
    "\n",
    "ct_list = sorted(Path('origin/hainan/png').glob('*/'))\n",
    "\n",
    "for ctid,ct_fp in enumerate(ct_list):\n",
    "    png_list = [t for t in sorted(list(ct_fp.glob('*.png'))) if '-' not in str(t.stem)]\n",
    "    for k,png_fp in enumerate(png_list):\n",
    "        # link image\n",
    "        from_fp =cache_root/f'image/{ctid:06}_{k:04}.png'\n",
    "        if not from_fp.exists():\n",
    "            from_fp.symlink_to(f'../../../{png_fp}')"
   ]
  },
  {
   "cell_type": "code",
   "execution_count": 179,
   "metadata": {},
   "outputs": [],
   "source": [
    "# now: cov:1; non-co-virus:0\n",
    "#  to: bg:0; cov:1; bacterial:2; fungal:3; non-co-virus:4\n",
    "\n",
    "tdf = pd.read_csv('origin/hainan/gt.csv')\n",
    "\n",
    "records = []\n",
    "for ctid,ct_fp in enumerate(ct_list):\n",
    "    pid,date = ct_fp.name.split('_')\n",
    "    image_from = Path(f'diag_hainan/image/{ctid:06}_')\n",
    "    png_list = [t for t in sorted(list(ct_fp.glob('*.png'))) if '-' not in str(t.stem)]\n",
    "    d = len(png_list)\n",
    "    w,h = PIL.Image.open(png_list[0]).size\n",
    "    found = (tdf.pid==int(pid))&(tdf.date==int(date))\n",
    "    if found.sum()>0:\n",
    "        label = tdf.loc[found].label.values[0]\n",
    "    else:\n",
    "        assert ct_fp.name=='0826166_20200127'\n",
    "        label = 1\n",
    "    if label==0:\n",
    "        label = 4\n",
    "    mask = f'{label}' * (d+1)\n",
    "    records.append(['',mask,'',h,w,d,'hainan',image_from,'','','0'])"
   ]
  },
  {
   "cell_type": "code",
   "execution_count": 180,
   "metadata": {},
   "outputs": [],
   "source": [
    "columns = ['image','mask','instance','h','w','d','src','image_from','mask_from','instance_from','split']"
   ]
  },
  {
   "cell_type": "code",
   "execution_count": 181,
   "metadata": {},
   "outputs": [],
   "source": [
    "df = pd.DataFrame(records, columns=columns)\n",
    "df.to_csv('dd_hainan.csv', index=False)"
   ]
  },
  {
   "cell_type": "code",
   "execution_count": 178,
   "metadata": {},
   "outputs": [
    {
     "data": {
      "text/html": [
       "<div>\n",
       "<style scoped>\n",
       "    .dataframe tbody tr th:only-of-type {\n",
       "        vertical-align: middle;\n",
       "    }\n",
       "\n",
       "    .dataframe tbody tr th {\n",
       "        vertical-align: top;\n",
       "    }\n",
       "\n",
       "    .dataframe thead th {\n",
       "        text-align: right;\n",
       "    }\n",
       "</style>\n",
       "<table border=\"1\" class=\"dataframe\">\n",
       "  <thead>\n",
       "    <tr style=\"text-align: right;\">\n",
       "      <th></th>\n",
       "      <th>image</th>\n",
       "      <th>mask</th>\n",
       "      <th>instance</th>\n",
       "      <th>h</th>\n",
       "      <th>w</th>\n",
       "      <th>d</th>\n",
       "      <th>src</th>\n",
       "      <th>image_from</th>\n",
       "      <th>mask_from</th>\n",
       "      <th>instance_from</th>\n",
       "      <th>split</th>\n",
       "    </tr>\n",
       "  </thead>\n",
       "  <tbody>\n",
       "    <tr>\n",
       "      <th>0</th>\n",
       "      <td></td>\n",
       "      <td>1111111111111111111111111111111111111111111111...</td>\n",
       "      <td></td>\n",
       "      <td>512</td>\n",
       "      <td>512</td>\n",
       "      <td>201</td>\n",
       "      <td>hainan</td>\n",
       "      <td>diag_hainan/image/000000_</td>\n",
       "      <td></td>\n",
       "      <td></td>\n",
       "      <td>0</td>\n",
       "    </tr>\n",
       "    <tr>\n",
       "      <th>1</th>\n",
       "      <td></td>\n",
       "      <td>1111111111111111111111111111111111111111111111...</td>\n",
       "      <td></td>\n",
       "      <td>512</td>\n",
       "      <td>512</td>\n",
       "      <td>207</td>\n",
       "      <td>hainan</td>\n",
       "      <td>diag_hainan/image/000001_</td>\n",
       "      <td></td>\n",
       "      <td></td>\n",
       "      <td>0</td>\n",
       "    </tr>\n",
       "    <tr>\n",
       "      <th>2</th>\n",
       "      <td></td>\n",
       "      <td>1111111111111111111111111111111111111111111111...</td>\n",
       "      <td></td>\n",
       "      <td>512</td>\n",
       "      <td>512</td>\n",
       "      <td>209</td>\n",
       "      <td>hainan</td>\n",
       "      <td>diag_hainan/image/000002_</td>\n",
       "      <td></td>\n",
       "      <td></td>\n",
       "      <td>0</td>\n",
       "    </tr>\n",
       "    <tr>\n",
       "      <th>3</th>\n",
       "      <td></td>\n",
       "      <td>1111111111111111111111111111111111111111111111...</td>\n",
       "      <td></td>\n",
       "      <td>512</td>\n",
       "      <td>512</td>\n",
       "      <td>217</td>\n",
       "      <td>hainan</td>\n",
       "      <td>diag_hainan/image/000003_</td>\n",
       "      <td></td>\n",
       "      <td></td>\n",
       "      <td>0</td>\n",
       "    </tr>\n",
       "    <tr>\n",
       "      <th>4</th>\n",
       "      <td></td>\n",
       "      <td>1111111111111111111111111111111111111111111111...</td>\n",
       "      <td></td>\n",
       "      <td>512</td>\n",
       "      <td>512</td>\n",
       "      <td>184</td>\n",
       "      <td>hainan</td>\n",
       "      <td>diag_hainan/image/000004_</td>\n",
       "      <td></td>\n",
       "      <td></td>\n",
       "      <td>0</td>\n",
       "    </tr>\n",
       "  </tbody>\n",
       "</table>\n",
       "</div>"
      ],
      "text/plain": [
       "  image                                               mask instance    h    w  \\\n",
       "0        1111111111111111111111111111111111111111111111...           512  512   \n",
       "1        1111111111111111111111111111111111111111111111...           512  512   \n",
       "2        1111111111111111111111111111111111111111111111...           512  512   \n",
       "3        1111111111111111111111111111111111111111111111...           512  512   \n",
       "4        1111111111111111111111111111111111111111111111...           512  512   \n",
       "\n",
       "     d     src                 image_from mask_from instance_from split  \n",
       "0  201  hainan  diag_hainan/image/000000_                             0  \n",
       "1  207  hainan  diag_hainan/image/000001_                             0  \n",
       "2  209  hainan  diag_hainan/image/000002_                             0  \n",
       "3  217  hainan  diag_hainan/image/000003_                             0  \n",
       "4  184  hainan  diag_hainan/image/000004_                             0  "
      ]
     },
     "execution_count": 178,
     "metadata": {},
     "output_type": "execute_result"
    }
   ],
   "source": [
    "df.head()"
   ]
  },
  {
   "cell_type": "markdown",
   "metadata": {},
   "source": [
    "#### Negative Slices"
   ]
  },
  {
   "cell_type": "code",
   "execution_count": null,
   "metadata": {},
   "outputs": [],
   "source": [
    "ds_root = Path('origin/pneumonia')\n",
    "im_dir = ds_root/'neg/work_data/lung_det_xinan_keyan/3d_slice_origin'\n",
    "im_dir.mkdir(parents=True, exist_ok=True)\n",
    "list_dir = ds_root/'neg/work_data/lung_det_xinan_keyan/config/coco_json_origin'\n",
    "list_dir.mkdir(parents=True, exist_ok=True)\n",
    "\n",
    "#\n",
    "with open(list_dir/'nodule_lesion_random_0611_train_image_list.txt','r') as f:\n",
    "    fp_list = [l.strip() for l in f.readlines()]\n",
    "    \n",
    "fp_list[:2]\n",
    "\n",
    "#Symlink image in neglist \n",
    "src_dir = Path('/lung_general_data/lung_det/lung_nodule_data/lung_nodule_0213/3d_slice_origin')\n",
    "dst_dir = im_dir\n",
    "#dst_dir.symlink_to(src_dir)\n",
    "\n",
    "for fp in fp_list:\n",
    "    fp = Path(fp)\n",
    "    i = int(fp.stem)\n",
    "    for j in range(i-5,i+6):\n",
    "        if i<0:\n",
    "            continue\n",
    "        im_fp = fp.parent/f'{j:03}.png'\n",
    "        dst_fp = dst_dir/im_fp\n",
    "        dst_fp.parent.mkdir(parents=True, exist_ok=True)\n",
    "        #print(src_dir/dst_fp)\n",
    "        #cmd = f'rsync -au i13:{src_dir/im_fp} {dst_fp}'\n",
    "        dst_fp.symlink_to(src_dir/im_fp)\n",
    "        #print(cmd)\n",
    "        #os.system(cmd)"
   ]
  }
 ],
 "metadata": {
  "kernelspec": {
   "display_name": "Python 3",
   "language": "python",
   "name": "python3"
  },
  "language_info": {
   "codemirror_mode": {
    "name": "ipython",
    "version": 3
   },
   "file_extension": ".py",
   "mimetype": "text/x-python",
   "name": "python",
   "nbconvert_exporter": "python",
   "pygments_lexer": "ipython3",
   "version": "3.7.3"
  }
 },
 "nbformat": 4,
 "nbformat_minor": 4
}
